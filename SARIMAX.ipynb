{
  "nbformat": 4,
  "nbformat_minor": 0,
  "metadata": {
    "colab": {
      "name": "SARIMAX.ipynb",
      "provenance": [],
      "collapsed_sections": [],
      "authorship_tag": "ABX9TyNthgHDm6rLEB9HtFxtIKGo",
      "include_colab_link": true
    },
    "kernelspec": {
      "name": "python3",
      "display_name": "Python 3"
    }
  },
  "cells": [
    {
      "cell_type": "markdown",
      "metadata": {
        "id": "view-in-github",
        "colab_type": "text"
      },
      "source": [
        "<a href=\"https://colab.research.google.com/github/kharerahul002/Forecasting-Models/blob/master/SARIMAX.ipynb\" target=\"_parent\"><img src=\"https://colab.research.google.com/assets/colab-badge.svg\" alt=\"Open In Colab\"/></a>"
      ]
    },
    {
      "cell_type": "code",
      "metadata": {
        "id": "wIHFXtQiFJMF",
        "colab_type": "code",
        "colab": {}
      },
      "source": [
        "import pandas as pd\n",
        "import numpy as np\n",
        "import matplotlib.pyplot as plt\n",
        "import seaborn as sns\n",
        "import quandl\n",
        "from pandas.plotting import register_matplotlib_converters\n",
        "register_matplotlib_converters()\n",
        "%matplotlib inline"
      ],
      "execution_count": 0,
      "outputs": []
    },
    {
      "cell_type": "code",
      "metadata": {
        "id": "MWJCAcAxF7zf",
        "colab_type": "code",
        "outputId": "d316c545-e3c7-4530-e821-f6e48240e35d",
        "colab": {
          "base_uri": "https://localhost:8080/",
          "height": 431
        }
      },
      "source": [
        "quandl.ApiConfig.api_key = 'knewsUunFYUMpN7y7xKn'\n",
        "data = quandl.get('BSE/BOM500325') #reliance\n",
        "data"
      ],
      "execution_count": 0,
      "outputs": [
        {
          "output_type": "execute_result",
          "data": {
            "text/html": [
              "<div>\n",
              "<style scoped>\n",
              "    .dataframe tbody tr th:only-of-type {\n",
              "        vertical-align: middle;\n",
              "    }\n",
              "\n",
              "    .dataframe tbody tr th {\n",
              "        vertical-align: top;\n",
              "    }\n",
              "\n",
              "    .dataframe thead th {\n",
              "        text-align: right;\n",
              "    }\n",
              "</style>\n",
              "<table border=\"1\" class=\"dataframe\">\n",
              "  <thead>\n",
              "    <tr style=\"text-align: right;\">\n",
              "      <th></th>\n",
              "      <th>Open</th>\n",
              "      <th>High</th>\n",
              "      <th>Low</th>\n",
              "      <th>Close</th>\n",
              "      <th>WAP</th>\n",
              "      <th>No. of Shares</th>\n",
              "      <th>No. of Trades</th>\n",
              "      <th>Total Turnover</th>\n",
              "      <th>Deliverable Quantity</th>\n",
              "      <th>% Deli. Qty to Traded Qty</th>\n",
              "      <th>Spread H-L</th>\n",
              "      <th>Spread C-O</th>\n",
              "    </tr>\n",
              "    <tr>\n",
              "      <th>Date</th>\n",
              "      <th></th>\n",
              "      <th></th>\n",
              "      <th></th>\n",
              "      <th></th>\n",
              "      <th></th>\n",
              "      <th></th>\n",
              "      <th></th>\n",
              "      <th></th>\n",
              "      <th></th>\n",
              "      <th></th>\n",
              "      <th></th>\n",
              "      <th></th>\n",
              "    </tr>\n",
              "  </thead>\n",
              "  <tbody>\n",
              "    <tr>\n",
              "      <th>1991-01-02</th>\n",
              "      <td>115.0</td>\n",
              "      <td>115.00</td>\n",
              "      <td>105.00</td>\n",
              "      <td>107.50</td>\n",
              "      <td>0.00</td>\n",
              "      <td>0.0</td>\n",
              "      <td>0.0</td>\n",
              "      <td>0.000000e+00</td>\n",
              "      <td>NaN</td>\n",
              "      <td>NaN</td>\n",
              "      <td>10.00</td>\n",
              "      <td>-7.50</td>\n",
              "    </tr>\n",
              "    <tr>\n",
              "      <th>1991-01-03</th>\n",
              "      <td>107.5</td>\n",
              "      <td>107.50</td>\n",
              "      <td>95.00</td>\n",
              "      <td>97.50</td>\n",
              "      <td>0.00</td>\n",
              "      <td>0.0</td>\n",
              "      <td>0.0</td>\n",
              "      <td>0.000000e+00</td>\n",
              "      <td>NaN</td>\n",
              "      <td>NaN</td>\n",
              "      <td>12.50</td>\n",
              "      <td>-10.00</td>\n",
              "    </tr>\n",
              "    <tr>\n",
              "      <th>1991-01-07</th>\n",
              "      <td>105.0</td>\n",
              "      <td>107.50</td>\n",
              "      <td>97.50</td>\n",
              "      <td>105.00</td>\n",
              "      <td>0.00</td>\n",
              "      <td>0.0</td>\n",
              "      <td>0.0</td>\n",
              "      <td>0.000000e+00</td>\n",
              "      <td>NaN</td>\n",
              "      <td>NaN</td>\n",
              "      <td>10.00</td>\n",
              "      <td>0.00</td>\n",
              "    </tr>\n",
              "    <tr>\n",
              "      <th>1991-01-09</th>\n",
              "      <td>105.0</td>\n",
              "      <td>105.00</td>\n",
              "      <td>101.25</td>\n",
              "      <td>102.50</td>\n",
              "      <td>0.00</td>\n",
              "      <td>0.0</td>\n",
              "      <td>0.0</td>\n",
              "      <td>0.000000e+00</td>\n",
              "      <td>NaN</td>\n",
              "      <td>NaN</td>\n",
              "      <td>3.75</td>\n",
              "      <td>-2.50</td>\n",
              "    </tr>\n",
              "    <tr>\n",
              "      <th>1991-01-11</th>\n",
              "      <td>102.5</td>\n",
              "      <td>110.00</td>\n",
              "      <td>100.00</td>\n",
              "      <td>108.75</td>\n",
              "      <td>0.00</td>\n",
              "      <td>0.0</td>\n",
              "      <td>0.0</td>\n",
              "      <td>0.000000e+00</td>\n",
              "      <td>NaN</td>\n",
              "      <td>NaN</td>\n",
              "      <td>10.00</td>\n",
              "      <td>6.25</td>\n",
              "    </tr>\n",
              "    <tr>\n",
              "      <th>...</th>\n",
              "      <td>...</td>\n",
              "      <td>...</td>\n",
              "      <td>...</td>\n",
              "      <td>...</td>\n",
              "      <td>...</td>\n",
              "      <td>...</td>\n",
              "      <td>...</td>\n",
              "      <td>...</td>\n",
              "      <td>...</td>\n",
              "      <td>...</td>\n",
              "      <td>...</td>\n",
              "      <td>...</td>\n",
              "    </tr>\n",
              "    <tr>\n",
              "      <th>2020-04-24</th>\n",
              "      <td>1354.9</td>\n",
              "      <td>1495.00</td>\n",
              "      <td>1348.00</td>\n",
              "      <td>1417.35</td>\n",
              "      <td>1426.94</td>\n",
              "      <td>2452068.0</td>\n",
              "      <td>84839.0</td>\n",
              "      <td>3.498957e+09</td>\n",
              "      <td>298577.0</td>\n",
              "      <td>12.18</td>\n",
              "      <td>147.00</td>\n",
              "      <td>62.45</td>\n",
              "    </tr>\n",
              "    <tr>\n",
              "      <th>2020-04-27</th>\n",
              "      <td>1440.0</td>\n",
              "      <td>1474.55</td>\n",
              "      <td>1422.95</td>\n",
              "      <td>1430.30</td>\n",
              "      <td>1449.14</td>\n",
              "      <td>1152767.0</td>\n",
              "      <td>42860.0</td>\n",
              "      <td>1.670522e+09</td>\n",
              "      <td>204866.0</td>\n",
              "      <td>17.77</td>\n",
              "      <td>51.60</td>\n",
              "      <td>-9.70</td>\n",
              "    </tr>\n",
              "    <tr>\n",
              "      <th>2020-04-28</th>\n",
              "      <td>1451.4</td>\n",
              "      <td>1454.75</td>\n",
              "      <td>1391.95</td>\n",
              "      <td>1428.10</td>\n",
              "      <td>1421.15</td>\n",
              "      <td>1301548.0</td>\n",
              "      <td>49487.0</td>\n",
              "      <td>1.849695e+09</td>\n",
              "      <td>159436.0</td>\n",
              "      <td>12.25</td>\n",
              "      <td>62.80</td>\n",
              "      <td>-23.30</td>\n",
              "    </tr>\n",
              "    <tr>\n",
              "      <th>2020-04-29</th>\n",
              "      <td>1446.0</td>\n",
              "      <td>1453.05</td>\n",
              "      <td>1420.50</td>\n",
              "      <td>1426.20</td>\n",
              "      <td>1436.20</td>\n",
              "      <td>642967.0</td>\n",
              "      <td>25581.0</td>\n",
              "      <td>9.234291e+08</td>\n",
              "      <td>119218.0</td>\n",
              "      <td>18.54</td>\n",
              "      <td>32.55</td>\n",
              "      <td>-19.80</td>\n",
              "    </tr>\n",
              "    <tr>\n",
              "      <th>2020-04-30</th>\n",
              "      <td>1454.0</td>\n",
              "      <td>1494.50</td>\n",
              "      <td>1440.00</td>\n",
              "      <td>1467.05</td>\n",
              "      <td>1469.70</td>\n",
              "      <td>1277127.0</td>\n",
              "      <td>47637.0</td>\n",
              "      <td>1.876995e+09</td>\n",
              "      <td>199937.0</td>\n",
              "      <td>15.66</td>\n",
              "      <td>54.50</td>\n",
              "      <td>13.05</td>\n",
              "    </tr>\n",
              "  </tbody>\n",
              "</table>\n",
              "<p>7091 rows × 12 columns</p>\n",
              "</div>"
            ],
            "text/plain": [
              "              Open     High  ...  Spread H-L  Spread C-O\n",
              "Date                         ...                        \n",
              "1991-01-02   115.0   115.00  ...       10.00       -7.50\n",
              "1991-01-03   107.5   107.50  ...       12.50      -10.00\n",
              "1991-01-07   105.0   107.50  ...       10.00        0.00\n",
              "1991-01-09   105.0   105.00  ...        3.75       -2.50\n",
              "1991-01-11   102.5   110.00  ...       10.00        6.25\n",
              "...            ...      ...  ...         ...         ...\n",
              "2020-04-24  1354.9  1495.00  ...      147.00       62.45\n",
              "2020-04-27  1440.0  1474.55  ...       51.60       -9.70\n",
              "2020-04-28  1451.4  1454.75  ...       62.80      -23.30\n",
              "2020-04-29  1446.0  1453.05  ...       32.55      -19.80\n",
              "2020-04-30  1454.0  1494.50  ...       54.50       13.05\n",
              "\n",
              "[7091 rows x 12 columns]"
            ]
          },
          "metadata": {
            "tags": []
          },
          "execution_count": 203
        }
      ]
    },
    {
      "cell_type": "code",
      "metadata": {
        "id": "7lya5Ji_F-b4",
        "colab_type": "code",
        "outputId": "4265ba52-5ceb-4d16-cfde-ab56e1900321",
        "colab": {
          "base_uri": "https://localhost:8080/",
          "height": 225
        }
      },
      "source": [
        "dataset = data.drop(['WAP','No. of Shares','No. of Trades','Total Turnover','Deliverable Quantity',\n",
        "                                    '% Deli. Qty to Traded Qty','Spread H-L','Spread C-O'], axis = 1)\n",
        "dataset.head()"
      ],
      "execution_count": 0,
      "outputs": [
        {
          "output_type": "execute_result",
          "data": {
            "text/html": [
              "<div>\n",
              "<style scoped>\n",
              "    .dataframe tbody tr th:only-of-type {\n",
              "        vertical-align: middle;\n",
              "    }\n",
              "\n",
              "    .dataframe tbody tr th {\n",
              "        vertical-align: top;\n",
              "    }\n",
              "\n",
              "    .dataframe thead th {\n",
              "        text-align: right;\n",
              "    }\n",
              "</style>\n",
              "<table border=\"1\" class=\"dataframe\">\n",
              "  <thead>\n",
              "    <tr style=\"text-align: right;\">\n",
              "      <th></th>\n",
              "      <th>Open</th>\n",
              "      <th>High</th>\n",
              "      <th>Low</th>\n",
              "      <th>Close</th>\n",
              "    </tr>\n",
              "    <tr>\n",
              "      <th>Date</th>\n",
              "      <th></th>\n",
              "      <th></th>\n",
              "      <th></th>\n",
              "      <th></th>\n",
              "    </tr>\n",
              "  </thead>\n",
              "  <tbody>\n",
              "    <tr>\n",
              "      <th>1991-01-02</th>\n",
              "      <td>115.0</td>\n",
              "      <td>115.0</td>\n",
              "      <td>105.00</td>\n",
              "      <td>107.50</td>\n",
              "    </tr>\n",
              "    <tr>\n",
              "      <th>1991-01-03</th>\n",
              "      <td>107.5</td>\n",
              "      <td>107.5</td>\n",
              "      <td>95.00</td>\n",
              "      <td>97.50</td>\n",
              "    </tr>\n",
              "    <tr>\n",
              "      <th>1991-01-07</th>\n",
              "      <td>105.0</td>\n",
              "      <td>107.5</td>\n",
              "      <td>97.50</td>\n",
              "      <td>105.00</td>\n",
              "    </tr>\n",
              "    <tr>\n",
              "      <th>1991-01-09</th>\n",
              "      <td>105.0</td>\n",
              "      <td>105.0</td>\n",
              "      <td>101.25</td>\n",
              "      <td>102.50</td>\n",
              "    </tr>\n",
              "    <tr>\n",
              "      <th>1991-01-11</th>\n",
              "      <td>102.5</td>\n",
              "      <td>110.0</td>\n",
              "      <td>100.00</td>\n",
              "      <td>108.75</td>\n",
              "    </tr>\n",
              "  </tbody>\n",
              "</table>\n",
              "</div>"
            ],
            "text/plain": [
              "             Open   High     Low   Close\n",
              "Date                                    \n",
              "1991-01-02  115.0  115.0  105.00  107.50\n",
              "1991-01-03  107.5  107.5   95.00   97.50\n",
              "1991-01-07  105.0  107.5   97.50  105.00\n",
              "1991-01-09  105.0  105.0  101.25  102.50\n",
              "1991-01-11  102.5  110.0  100.00  108.75"
            ]
          },
          "metadata": {
            "tags": []
          },
          "execution_count": 204
        }
      ]
    },
    {
      "cell_type": "code",
      "metadata": {
        "id": "BF62KuGkMTBE",
        "colab_type": "code",
        "outputId": "602419ff-6155-4edd-d15e-b9f2e2a05456",
        "colab": {
          "base_uri": "https://localhost:8080/",
          "height": 34
        }
      },
      "source": [
        "type(dataset)"
      ],
      "execution_count": 0,
      "outputs": [
        {
          "output_type": "execute_result",
          "data": {
            "text/plain": [
              "pandas.core.frame.DataFrame"
            ]
          },
          "metadata": {
            "tags": []
          },
          "execution_count": 205
        }
      ]
    },
    {
      "cell_type": "code",
      "metadata": {
        "id": "lPApa6MTMwlu",
        "colab_type": "code",
        "colab": {}
      },
      "source": [
        "dataset = dataset.reset_index()"
      ],
      "execution_count": 0,
      "outputs": []
    },
    {
      "cell_type": "code",
      "metadata": {
        "id": "lttHF2u0Mwob",
        "colab_type": "code",
        "colab": {}
      },
      "source": [
        "#dataset.rename(columns={'Date':'DATE'},inplace=True)"
      ],
      "execution_count": 0,
      "outputs": []
    },
    {
      "cell_type": "code",
      "metadata": {
        "id": "Tdcge5F8J_sc",
        "colab_type": "code",
        "outputId": "efbeeed5-28f0-4bb6-c509-8509c14b1ed7",
        "colab": {
          "base_uri": "https://localhost:8080/",
          "height": 106
        }
      },
      "source": [
        "dataset['Mean'] = (dataset['Low'] + dataset['High'])/2\n",
        "dataset.head(2)"
      ],
      "execution_count": 0,
      "outputs": [
        {
          "output_type": "execute_result",
          "data": {
            "text/html": [
              "<div>\n",
              "<style scoped>\n",
              "    .dataframe tbody tr th:only-of-type {\n",
              "        vertical-align: middle;\n",
              "    }\n",
              "\n",
              "    .dataframe tbody tr th {\n",
              "        vertical-align: top;\n",
              "    }\n",
              "\n",
              "    .dataframe thead th {\n",
              "        text-align: right;\n",
              "    }\n",
              "</style>\n",
              "<table border=\"1\" class=\"dataframe\">\n",
              "  <thead>\n",
              "    <tr style=\"text-align: right;\">\n",
              "      <th></th>\n",
              "      <th>Date</th>\n",
              "      <th>Open</th>\n",
              "      <th>High</th>\n",
              "      <th>Low</th>\n",
              "      <th>Close</th>\n",
              "      <th>Mean</th>\n",
              "    </tr>\n",
              "  </thead>\n",
              "  <tbody>\n",
              "    <tr>\n",
              "      <th>0</th>\n",
              "      <td>1991-01-02</td>\n",
              "      <td>115.0</td>\n",
              "      <td>115.0</td>\n",
              "      <td>105.0</td>\n",
              "      <td>107.5</td>\n",
              "      <td>110.00</td>\n",
              "    </tr>\n",
              "    <tr>\n",
              "      <th>1</th>\n",
              "      <td>1991-01-03</td>\n",
              "      <td>107.5</td>\n",
              "      <td>107.5</td>\n",
              "      <td>95.0</td>\n",
              "      <td>97.5</td>\n",
              "      <td>101.25</td>\n",
              "    </tr>\n",
              "  </tbody>\n",
              "</table>\n",
              "</div>"
            ],
            "text/plain": [
              "        Date   Open   High    Low  Close    Mean\n",
              "0 1991-01-02  115.0  115.0  105.0  107.5  110.00\n",
              "1 1991-01-03  107.5  107.5   95.0   97.5  101.25"
            ]
          },
          "metadata": {
            "tags": []
          },
          "execution_count": 208
        }
      ]
    },
    {
      "cell_type": "code",
      "metadata": {
        "id": "eogUv7KcJ69Q",
        "colab_type": "code",
        "outputId": "61dc671c-39c7-4808-bb2f-4b29dc5dd2f7",
        "colab": {
          "base_uri": "https://localhost:8080/",
          "height": 235
        }
      },
      "source": [
        "dataset.info()"
      ],
      "execution_count": 0,
      "outputs": [
        {
          "output_type": "stream",
          "text": [
            "<class 'pandas.core.frame.DataFrame'>\n",
            "RangeIndex: 7091 entries, 0 to 7090\n",
            "Data columns (total 6 columns):\n",
            " #   Column  Non-Null Count  Dtype         \n",
            "---  ------  --------------  -----         \n",
            " 0   Date    7091 non-null   datetime64[ns]\n",
            " 1   Open    7091 non-null   float64       \n",
            " 2   High    7091 non-null   float64       \n",
            " 3   Low     7091 non-null   float64       \n",
            " 4   Close   7091 non-null   float64       \n",
            " 5   Mean    7091 non-null   float64       \n",
            "dtypes: datetime64[ns](1), float64(5)\n",
            "memory usage: 332.5 KB\n"
          ],
          "name": "stdout"
        }
      ]
    },
    {
      "cell_type": "code",
      "metadata": {
        "id": "Cv4fc5sGKUvD",
        "colab_type": "code",
        "outputId": "052aeb86-8fb2-4c82-ed30-9092bf703046",
        "colab": {
          "base_uri": "https://localhost:8080/",
          "height": 136
        }
      },
      "source": [
        "steps=-1\n",
        "dataset_for_prediction= dataset.copy()\n",
        "dataset_for_prediction['Actual']=dataset_for_prediction['Mean'].shift(steps)\n",
        "dataset_for_prediction.head(3)"
      ],
      "execution_count": 0,
      "outputs": [
        {
          "output_type": "execute_result",
          "data": {
            "text/html": [
              "<div>\n",
              "<style scoped>\n",
              "    .dataframe tbody tr th:only-of-type {\n",
              "        vertical-align: middle;\n",
              "    }\n",
              "\n",
              "    .dataframe tbody tr th {\n",
              "        vertical-align: top;\n",
              "    }\n",
              "\n",
              "    .dataframe thead th {\n",
              "        text-align: right;\n",
              "    }\n",
              "</style>\n",
              "<table border=\"1\" class=\"dataframe\">\n",
              "  <thead>\n",
              "    <tr style=\"text-align: right;\">\n",
              "      <th></th>\n",
              "      <th>Date</th>\n",
              "      <th>Open</th>\n",
              "      <th>High</th>\n",
              "      <th>Low</th>\n",
              "      <th>Close</th>\n",
              "      <th>Mean</th>\n",
              "      <th>Actual</th>\n",
              "    </tr>\n",
              "  </thead>\n",
              "  <tbody>\n",
              "    <tr>\n",
              "      <th>0</th>\n",
              "      <td>1991-01-02</td>\n",
              "      <td>115.0</td>\n",
              "      <td>115.0</td>\n",
              "      <td>105.0</td>\n",
              "      <td>107.5</td>\n",
              "      <td>110.00</td>\n",
              "      <td>101.250</td>\n",
              "    </tr>\n",
              "    <tr>\n",
              "      <th>1</th>\n",
              "      <td>1991-01-03</td>\n",
              "      <td>107.5</td>\n",
              "      <td>107.5</td>\n",
              "      <td>95.0</td>\n",
              "      <td>97.5</td>\n",
              "      <td>101.25</td>\n",
              "      <td>102.500</td>\n",
              "    </tr>\n",
              "    <tr>\n",
              "      <th>2</th>\n",
              "      <td>1991-01-07</td>\n",
              "      <td>105.0</td>\n",
              "      <td>107.5</td>\n",
              "      <td>97.5</td>\n",
              "      <td>105.0</td>\n",
              "      <td>102.50</td>\n",
              "      <td>103.125</td>\n",
              "    </tr>\n",
              "  </tbody>\n",
              "</table>\n",
              "</div>"
            ],
            "text/plain": [
              "        Date   Open   High    Low  Close    Mean   Actual\n",
              "0 1991-01-02  115.0  115.0  105.0  107.5  110.00  101.250\n",
              "1 1991-01-03  107.5  107.5   95.0   97.5  101.25  102.500\n",
              "2 1991-01-07  105.0  107.5   97.5  105.0  102.50  103.125"
            ]
          },
          "metadata": {
            "tags": []
          },
          "execution_count": 210
        }
      ]
    },
    {
      "cell_type": "code",
      "metadata": {
        "id": "Z98_TFcTKl9m",
        "colab_type": "code",
        "colab": {}
      },
      "source": [
        "dataset_for_prediction=dataset_for_prediction.dropna()"
      ],
      "execution_count": 0,
      "outputs": []
    },
    {
      "cell_type": "code",
      "metadata": {
        "id": "v13W5IZHKuB9",
        "colab_type": "code",
        "colab": {}
      },
      "source": [
        "#dataset_for_prediction['DATE'] =pd.to_datetime(dataset_for_prediction['DATE'])\n",
        "#dataset_for_prediction.index= dataset_for_prediction['DATE']"
      ],
      "execution_count": 0,
      "outputs": []
    },
    {
      "cell_type": "code",
      "metadata": {
        "id": "Uxj17wODLbu7",
        "colab_type": "code",
        "outputId": "0f91ef40-d146-4080-b8f5-b26d37b1edb2",
        "colab": {
          "base_uri": "https://localhost:8080/",
          "height": 190
        }
      },
      "source": [
        "dataset_for_prediction['Mean'].plot(color='green', figsize=(15,2))\n",
        "plt.legend(['Next day value', 'Mean'])\n",
        "plt.title('Opening Stock Value')"
      ],
      "execution_count": 0,
      "outputs": [
        {
          "output_type": "execute_result",
          "data": {
            "text/plain": [
              "Text(0.5, 1.0, 'Opening Stock Value')"
            ]
          },
          "metadata": {
            "tags": []
          },
          "execution_count": 213
        },
        {
          "output_type": "display_data",
          "data": {
            "image/png": "[encoded data removed]",
            "text/plain": [
              "<Figure size 1080x144 with 1 Axes>"
            ]
          },
          "metadata": {
            "tags": [],
            "needs_background": "light"
          }
        }
      ]
    },
    {
      "cell_type": "code",
      "metadata": {
        "id": "K04Yj_vAN1RT",
        "colab_type": "code",
        "colab": {}
      },
      "source": [
        "from sklearn.preprocessing import MinMaxScaler\n",
        "sc_in = MinMaxScaler(feature_range=(0, 1))\n",
        "scaled_input = sc_in.fit_transform(dataset_for_prediction[['Low', 'High', 'Open', 'Close', 'Mean']])\n",
        "scaled_input =pd.DataFrame(scaled_input)\n",
        "X= scaled_input"
      ],
      "execution_count": 0,
      "outputs": []
    },
    {
      "cell_type": "code",
      "metadata": {
        "id": "-aHe_ElfO_4U",
        "colab_type": "code",
        "colab": {}
      },
      "source": [
        "sc_out = MinMaxScaler(feature_range=(0, 1))\n",
        "scaler_output = sc_out.fit_transform(dataset_for_prediction[['Actual']])\n",
        "scaler_output = pd.DataFrame(scaler_output)\n",
        "y=scaler_output"
      ],
      "execution_count": 0,
      "outputs": []
    },
    {
      "cell_type": "code",
      "metadata": {
        "id": "2qb1Vg4SPhRy",
        "colab_type": "code",
        "outputId": "5e472cdc-3aa5-4f12-95a8-6380ddf361d4",
        "colab": {
          "base_uri": "https://localhost:8080/",
          "height": 195
        }
      },
      "source": [
        "X.rename(columns={0:'Low', 1:'High', 2:'Open', 3:'Close', 4:'Mean'}, inplace=True)\n",
        "X.head()"
      ],
      "execution_count": 0,
      "outputs": [
        {
          "output_type": "execute_result",
          "data": {
            "text/html": [
              "<div>\n",
              "<style scoped>\n",
              "    .dataframe tbody tr th:only-of-type {\n",
              "        vertical-align: middle;\n",
              "    }\n",
              "\n",
              "    .dataframe tbody tr th {\n",
              "        vertical-align: top;\n",
              "    }\n",
              "\n",
              "    .dataframe thead th {\n",
              "        text-align: right;\n",
              "    }\n",
              "</style>\n",
              "<table border=\"1\" class=\"dataframe\">\n",
              "  <thead>\n",
              "    <tr style=\"text-align: right;\">\n",
              "      <th></th>\n",
              "      <th>Low</th>\n",
              "      <th>High</th>\n",
              "      <th>Open</th>\n",
              "      <th>Close</th>\n",
              "      <th>Mean</th>\n",
              "    </tr>\n",
              "  </thead>\n",
              "  <tbody>\n",
              "    <tr>\n",
              "      <th>0</th>\n",
              "      <td>0.005334</td>\n",
              "      <td>0.006335</td>\n",
              "      <td>0.007160</td>\n",
              "      <td>0.0052</td>\n",
              "      <td>0.005843</td>\n",
              "    </tr>\n",
              "    <tr>\n",
              "      <th>1</th>\n",
              "      <td>0.002052</td>\n",
              "      <td>0.003959</td>\n",
              "      <td>0.004773</td>\n",
              "      <td>0.0020</td>\n",
              "      <td>0.003022</td>\n",
              "    </tr>\n",
              "    <tr>\n",
              "      <th>2</th>\n",
              "      <td>0.002872</td>\n",
              "      <td>0.003959</td>\n",
              "      <td>0.003978</td>\n",
              "      <td>0.0044</td>\n",
              "      <td>0.003425</td>\n",
              "    </tr>\n",
              "    <tr>\n",
              "      <th>3</th>\n",
              "      <td>0.004103</td>\n",
              "      <td>0.003167</td>\n",
              "      <td>0.003978</td>\n",
              "      <td>0.0036</td>\n",
              "      <td>0.003627</td>\n",
              "    </tr>\n",
              "    <tr>\n",
              "      <th>4</th>\n",
              "      <td>0.003693</td>\n",
              "      <td>0.004751</td>\n",
              "      <td>0.003182</td>\n",
              "      <td>0.0056</td>\n",
              "      <td>0.004231</td>\n",
              "    </tr>\n",
              "  </tbody>\n",
              "</table>\n",
              "</div>"
            ],
            "text/plain": [
              "        Low      High      Open   Close      Mean\n",
              "0  0.005334  0.006335  0.007160  0.0052  0.005843\n",
              "1  0.002052  0.003959  0.004773  0.0020  0.003022\n",
              "2  0.002872  0.003959  0.003978  0.0044  0.003425\n",
              "3  0.004103  0.003167  0.003978  0.0036  0.003627\n",
              "4  0.003693  0.004751  0.003182  0.0056  0.004231"
            ]
          },
          "metadata": {
            "tags": []
          },
          "execution_count": 216
        }
      ]
    },
    {
      "cell_type": "code",
      "metadata": {
        "id": "ZTwvRIUdQCTY",
        "colab_type": "code",
        "outputId": "2ff095dd-bf38-4a95-ddf2-15576ffc7746",
        "colab": {
          "base_uri": "https://localhost:8080/",
          "height": 195
        }
      },
      "source": [
        "y.rename(columns={0:'Stock Price next day'}, inplace= True)\n",
        "y.index=dataset_for_prediction.index\n",
        "y.head()"
      ],
      "execution_count": 0,
      "outputs": [
        {
          "output_type": "execute_result",
          "data": {
            "text/html": [
              "<div>\n",
              "<style scoped>\n",
              "    .dataframe tbody tr th:only-of-type {\n",
              "        vertical-align: middle;\n",
              "    }\n",
              "\n",
              "    .dataframe tbody tr th {\n",
              "        vertical-align: top;\n",
              "    }\n",
              "\n",
              "    .dataframe thead th {\n",
              "        text-align: right;\n",
              "    }\n",
              "</style>\n",
              "<table border=\"1\" class=\"dataframe\">\n",
              "  <thead>\n",
              "    <tr style=\"text-align: right;\">\n",
              "      <th></th>\n",
              "      <th>Stock Price next day</th>\n",
              "    </tr>\n",
              "  </thead>\n",
              "  <tbody>\n",
              "    <tr>\n",
              "      <th>0</th>\n",
              "      <td>0.003022</td>\n",
              "    </tr>\n",
              "    <tr>\n",
              "      <th>1</th>\n",
              "      <td>0.003425</td>\n",
              "    </tr>\n",
              "    <tr>\n",
              "      <th>2</th>\n",
              "      <td>0.003627</td>\n",
              "    </tr>\n",
              "    <tr>\n",
              "      <th>3</th>\n",
              "      <td>0.004231</td>\n",
              "    </tr>\n",
              "    <tr>\n",
              "      <th>4</th>\n",
              "      <td>0.004030</td>\n",
              "    </tr>\n",
              "  </tbody>\n",
              "</table>\n",
              "</div>"
            ],
            "text/plain": [
              "   Stock Price next day\n",
              "0              0.003022\n",
              "1              0.003425\n",
              "2              0.003627\n",
              "3              0.004231\n",
              "4              0.004030"
            ]
          },
          "metadata": {
            "tags": []
          },
          "execution_count": 217
        }
      ]
    },
    {
      "cell_type": "code",
      "metadata": {
        "id": "yyJo1ByXQYMr",
        "colab_type": "code",
        "colab": {}
      },
      "source": [
        "train_size=int(len(dataset) *0.7)\n",
        "test_size = int(len(dataset)) - train_size\n",
        "train_X, train_y = X[:train_size].dropna(), y[:train_size].dropna()\n",
        "test_X, test_y = X[train_size:].dropna(), y[train_size:].dropna()"
      ],
      "execution_count": 0,
      "outputs": []
    },
    {
      "cell_type": "code",
      "metadata": {
        "id": "5y2PimsHSNZW",
        "colab_type": "code",
        "outputId": "e86e5d9f-b5b9-49b9-f132-69b117497bf4",
        "colab": {
          "base_uri": "https://localhost:8080/",
          "height": 605
        }
      },
      "source": [
        "import statsmodels.api as sm\n",
        "seas_d=sm.tsa.seasonal_decompose(X['Mean'],model='add',freq=365);\n",
        "fig=seas_d.plot()\n",
        "fig.set_size_inches(16, 9)\n",
        "plt.show()"
      ],
      "execution_count": 0,
      "outputs": [
        {
          "output_type": "display_data",
          "data": {
            "image/png": "[encoded data removed]",
            "text/plain": [
              "<Figure size 1152x648 with 4 Axes>"
            ]
          },
          "metadata": {
            "tags": [],
            "needs_background": "light"
          }
        }
      ]
    },
    {
      "cell_type": "code",
      "metadata": {
        "id": "IOYA0UmHSfPc",
        "colab_type": "code",
        "colab": {}
      },
      "source": [
        "from statsmodels.tsa.stattools import adfuller\n",
        "def test_adf(series, title=''):\n",
        "    dfout={}\n",
        "    dftest=sm.tsa.adfuller(series.dropna(), autolag='AIC', regression='ct')\n",
        "    for key,val in dftest[4].items():\n",
        "        dfout[f'critical value ({key})']=val\n",
        "    if dftest[1]<=0.05:\n",
        "        print(\"Strong evidence against Null Hypothesis\")\n",
        "        print(\"Reject Null Hypothesis - Data is Stationary\")\n",
        "        print(\"Data is Stationary\", title)\n",
        "    else:\n",
        "        print(\"Strong evidence for  Null Hypothesis\")\n",
        "        print(\"Accept Null Hypothesis - Data is not Stationary\")\n",
        "        print(\"Data is NOT Stationary for\", title)"
      ],
      "execution_count": 0,
      "outputs": []
    },
    {
      "cell_type": "code",
      "metadata": {
        "id": "dTMxmYczUiLS",
        "colab_type": "code",
        "outputId": "8ae945f5-39f2-4a19-9d60-a4c51b48343d",
        "colab": {
          "base_uri": "https://localhost:8080/",
          "height": 67
        }
      },
      "source": [
        "y_test=y['Stock Price next day'][:train_size].dropna()\n",
        "test_adf(y_test, \" Stock Price\")"
      ],
      "execution_count": 0,
      "outputs": [
        {
          "output_type": "stream",
          "text": [
            "Strong evidence for  Null Hypothesis\n",
            "Accept Null Hypothesis - Data is not Stationary\n",
            "Data is NOT Stationary for  Stock Price\n"
          ],
          "name": "stdout"
        }
      ]
    },
    {
      "cell_type": "code",
      "metadata": {
        "id": "WKBiKe2CUnyG",
        "colab_type": "code",
        "outputId": "c963e19c-b0b7-48d5-d8e8-62f9cf18573c",
        "colab": {
          "base_uri": "https://localhost:8080/",
          "height": 67
        }
      },
      "source": [
        "test_adf(y_test.diff(), \" Stock Price\")"
      ],
      "execution_count": 0,
      "outputs": [
        {
          "output_type": "stream",
          "text": [
            "Strong evidence against Null Hypothesis\n",
            "Reject Null Hypothesis - Data is Stationary\n",
            "Data is Stationary  Stock Price\n"
          ],
          "name": "stdout"
        }
      ]
    },
    {
      "cell_type": "code",
      "metadata": {
        "id": "35DX9Q6iU2qx",
        "colab_type": "code",
        "outputId": "55e64b7a-5424-41f7-ce8a-f80dd18b2719",
        "colab": {
          "base_uri": "https://localhost:8080/",
          "height": 202
        }
      },
      "source": [
        "#building a model\n",
        "\n",
        "from pmdarima.arima import auto_arima\n",
        "step_wise=auto_arima(train_y, \n",
        " exogenous= train_X,\n",
        " start_p=1, start_q=1, \n",
        " max_p=7, max_q=7, \n",
        " d=1, max_d=7,\n",
        " trace=True, \n",
        " error_action='ignore', \n",
        " suppress_warnings=True, \n",
        " stepwise=True)"
      ],
      "execution_count": 0,
      "outputs": [
        {
          "output_type": "stream",
          "text": [
            "Performing stepwise search to minimize aic\n",
            "Fit ARIMA(1,1,1)x(0,0,0,0) [intercept=True]; AIC=-33952.008, BIC=-33893.422, Time=17.621 seconds\n",
            "Fit ARIMA(0,1,0)x(0,0,0,0) [intercept=True]; AIC=-33901.949, BIC=-33856.382, Time=10.867 seconds\n",
            "Fit ARIMA(1,1,0)x(0,0,0,0) [intercept=True]; AIC=-33940.375, BIC=-33888.298, Time=9.618 seconds\n",
            "Fit ARIMA(0,1,1)x(0,0,0,0) [intercept=True]; AIC=-33958.213, BIC=-33906.136, Time=21.301 seconds\n",
            "Fit ARIMA(0,1,0)x(0,0,0,0) [intercept=False]; AIC=-33860.289, BIC=-33821.231, Time=4.791 seconds\n",
            "Fit ARIMA(0,1,2)x(0,0,0,0) [intercept=True]; AIC=-33975.619, BIC=-33917.033, Time=6.999 seconds\n",
            "Fit ARIMA(1,1,2)x(0,0,0,0) [intercept=True]; AIC=-33916.046, BIC=-33850.951, Time=20.344 seconds\n",
            "Fit ARIMA(0,1,3)x(0,0,0,0) [intercept=True]; AIC=-33969.386, BIC=-33904.290, Time=39.954 seconds\n",
            "Fit ARIMA(1,1,3)x(0,0,0,0) [intercept=True]; AIC=-33969.644, BIC=-33898.039, Time=32.138 seconds\n",
            "Total fit time: 163.649 seconds\n"
          ],
          "name": "stdout"
        }
      ]
    },
    {
      "cell_type": "code",
      "metadata": {
        "id": "KjVqBjVqVOQP",
        "colab_type": "code",
        "outputId": "c3162991-43b4-43d6-e040-bf5ca1d570d5",
        "colab": {
          "base_uri": "https://localhost:8080/",
          "height": 542
        }
      },
      "source": [
        "step_wise.summary()"
      ],
      "execution_count": 0,
      "outputs": [
        {
          "output_type": "execute_result",
          "data": {
            "text/html": [
              "<table class=\"simpletable\">\n",
              "<caption>Statespace Model Results</caption>\n",
              "<tr>\n",
              "  <th>Dep. Variable:</th>           <td>y</td>        <th>  No. Observations:  </th>    <td>4963</td>   \n",
              "</tr>\n",
              "<tr>\n",
              "  <th>Model:</th>           <td>SARIMAX(0, 1, 2)</td> <th>  Log Likelihood     </th>  <td>16996.810</td>\n",
              "</tr>\n",
              "<tr>\n",
              "  <th>Date:</th>            <td>Tue, 12 May 2020</td> <th>  AIC                </th> <td>-33975.619</td>\n",
              "</tr>\n",
              "<tr>\n",
              "  <th>Time:</th>                <td>12:25:12</td>     <th>  BIC                </th> <td>-33917.033</td>\n",
              "</tr>\n",
              "<tr>\n",
              "  <th>Sample:</th>                  <td>0</td>        <th>  HQIC               </th> <td>-33955.078</td>\n",
              "</tr>\n",
              "<tr>\n",
              "  <th></th>                      <td> - 4963</td>     <th>                     </th>      <td> </td>    \n",
              "</tr>\n",
              "<tr>\n",
              "  <th>Covariance Type:</th>        <td>opg</td>       <th>                     </th>      <td> </td>    \n",
              "</tr>\n",
              "</table>\n",
              "<table class=\"simpletable\">\n",
              "<tr>\n",
              "      <td></td>         <th>coef</th>     <th>std err</th>      <th>z</th>      <th>P>|z|</th>  <th>[0.025</th>    <th>0.975]</th>  \n",
              "</tr>\n",
              "<tr>\n",
              "  <th>intercept</th> <td> 2.048e-06</td> <td>    0.000</td> <td>    0.015</td> <td> 0.988</td> <td>   -0.000</td> <td>    0.000</td>\n",
              "</tr>\n",
              "<tr>\n",
              "  <th>Low</th>       <td>-7.426e+12</td> <td>    0.007</td> <td>-1.08e+15</td> <td> 0.000</td> <td>-7.43e+12</td> <td>-7.43e+12</td>\n",
              "</tr>\n",
              "<tr>\n",
              "  <th>High</th>      <td>-7.696e+12</td> <td>    0.015</td> <td>-5.22e+14</td> <td> 0.000</td> <td> -7.7e+12</td> <td> -7.7e+12</td>\n",
              "</tr>\n",
              "<tr>\n",
              "  <th>Open</th>      <td>    0.0530</td> <td>    0.014</td> <td>    3.840</td> <td> 0.000</td> <td>    0.026</td> <td>    0.080</td>\n",
              "</tr>\n",
              "<tr>\n",
              "  <th>Close</th>     <td>    0.6741</td> <td>    0.013</td> <td>   53.809</td> <td> 0.000</td> <td>    0.650</td> <td>    0.699</td>\n",
              "</tr>\n",
              "<tr>\n",
              "  <th>Mean</th>      <td> 1.512e+13</td> <td>    0.008</td> <td> 1.85e+15</td> <td> 0.000</td> <td> 1.51e+13</td> <td> 1.51e+13</td>\n",
              "</tr>\n",
              "<tr>\n",
              "  <th>ma.L1</th>     <td>   -0.0998</td> <td>    0.016</td> <td>   -6.132</td> <td> 0.000</td> <td>   -0.132</td> <td>   -0.068</td>\n",
              "</tr>\n",
              "<tr>\n",
              "  <th>ma.L2</th>     <td>   -0.0016</td> <td>    0.008</td> <td>   -0.208</td> <td> 0.835</td> <td>   -0.017</td> <td>    0.014</td>\n",
              "</tr>\n",
              "<tr>\n",
              "  <th>sigma2</th>    <td> 6.117e-05</td> <td> 1.07e-07</td> <td>  572.181</td> <td> 0.000</td> <td>  6.1e-05</td> <td> 6.14e-05</td>\n",
              "</tr>\n",
              "</table>\n",
              "<table class=\"simpletable\">\n",
              "<tr>\n",
              "  <th>Ljung-Box (Q):</th>          <td>76.11</td> <th>  Jarque-Bera (JB):  </th> <td>150888851.98</td>\n",
              "</tr>\n",
              "<tr>\n",
              "  <th>Prob(Q):</th>                <td>0.00</td>  <th>  Prob(JB):          </th>     <td>0.00</td>    \n",
              "</tr>\n",
              "<tr>\n",
              "  <th>Heteroskedasticity (H):</th> <td>21.67</td> <th>  Skew:              </th>    <td>-18.86</td>   \n",
              "</tr>\n",
              "<tr>\n",
              "  <th>Prob(H) (two-sided):</th>    <td>0.00</td>  <th>  Kurtosis:          </th>    <td>856.46</td>   \n",
              "</tr>\n",
              "</table><br/><br/>Warnings:<br/>[1] Covariance matrix calculated using the outer product of gradients (complex-step).<br/>[2] Covariance matrix is singular or near-singular, with condition number 1.2e+17. Standard errors may be unstable."
            ],
            "text/plain": [
              "<class 'statsmodels.iolib.summary.Summary'>\n",
              "\"\"\"\n",
              "                           Statespace Model Results                           \n",
              "==============================================================================\n",
              "Dep. Variable:                      y   No. Observations:                 4963\n",
              "Model:               SARIMAX(0, 1, 2)   Log Likelihood               16996.810\n",
              "Date:                Tue, 12 May 2020   AIC                         -33975.619\n",
              "Time:                        12:25:12   BIC                         -33917.033\n",
              "Sample:                             0   HQIC                        -33955.078\n",
              "                               - 4963                                         \n",
              "Covariance Type:                  opg                                         \n",
              "==============================================================================\n",
              "                 coef    std err          z      P>|z|      [0.025      0.975]\n",
              "------------------------------------------------------------------------------\n",
              "intercept   2.048e-06      0.000      0.015      0.988      -0.000       0.000\n",
              "Low        -7.426e+12      0.007  -1.08e+15      0.000   -7.43e+12   -7.43e+12\n",
              "High       -7.696e+12      0.015  -5.22e+14      0.000    -7.7e+12    -7.7e+12\n",
              "Open           0.0530      0.014      3.840      0.000       0.026       0.080\n",
              "Close          0.6741      0.013     53.809      0.000       0.650       0.699\n",
              "Mean        1.512e+13      0.008   1.85e+15      0.000    1.51e+13    1.51e+13\n",
              "ma.L1         -0.0998      0.016     -6.132      0.000      -0.132      -0.068\n",
              "ma.L2         -0.0016      0.008     -0.208      0.835      -0.017       0.014\n",
              "sigma2      6.117e-05   1.07e-07    572.181      0.000     6.1e-05    6.14e-05\n",
              "===================================================================================\n",
              "Ljung-Box (Q):                       76.11   Jarque-Bera (JB):         150888851.98\n",
              "Prob(Q):                              0.00   Prob(JB):                         0.00\n",
              "Heteroskedasticity (H):              21.67   Skew:                           -18.86\n",
              "Prob(H) (two-sided):                  0.00   Kurtosis:                       856.46\n",
              "===================================================================================\n",
              "\n",
              "Warnings:\n",
              "[1] Covariance matrix calculated using the outer product of gradients (complex-step).\n",
              "[2] Covariance matrix is singular or near-singular, with condition number 1.2e+17. Standard errors may be unstable.\n",
              "\"\"\""
            ]
          },
          "metadata": {
            "tags": []
          },
          "execution_count": 224
        }
      ]
    },
    {
      "cell_type": "code",
      "metadata": {
        "id": "odIm5I_yVSlg",
        "colab_type": "code",
        "colab": {}
      },
      "source": [
        "#train the model\n",
        "\n",
        "from statsmodels.tsa.statespace.sarimax import SARIMAX\n",
        "model= SARIMAX(train_y,\n",
        " exog=train_X,\n",
        " order=(0,1,2),\n",
        " enforce_invertibility=False, enforce_stationarity=False)"
      ],
      "execution_count": 0,
      "outputs": []
    },
    {
      "cell_type": "code",
      "metadata": {
        "id": "8vcTXGZ_prKk",
        "colab_type": "code",
        "outputId": "ad3ff349-1902-4d92-a3a3-446e76d0d561",
        "colab": {
          "base_uri": "https://localhost:8080/",
          "height": 50
        }
      },
      "source": [
        "results= model.fit()"
      ],
      "execution_count": 0,
      "outputs": [
        {
          "output_type": "stream",
          "text": [
            "/usr/local/lib/python3.6/dist-packages/statsmodels/base/model.py:512: ConvergenceWarning: Maximum Likelihood optimization failed to converge. Check mle_retvals\n",
            "  \"Check mle_retvals\", ConvergenceWarning)\n"
          ],
          "name": "stderr"
        }
      ]
    },
    {
      "cell_type": "code",
      "metadata": {
        "id": "6GXSvIKTsIVT",
        "colab_type": "code",
        "outputId": "e2fcaa0a-62dc-4113-8f01-9898e5e7900c",
        "colab": {
          "base_uri": "https://localhost:8080/",
          "height": 402
        }
      },
      "source": [
        "test_X"
      ],
      "execution_count": 0,
      "outputs": [
        {
          "output_type": "execute_result",
          "data": {
            "text/html": [
              "<div>\n",
              "<style scoped>\n",
              "    .dataframe tbody tr th:only-of-type {\n",
              "        vertical-align: middle;\n",
              "    }\n",
              "\n",
              "    .dataframe tbody tr th {\n",
              "        vertical-align: top;\n",
              "    }\n",
              "\n",
              "    .dataframe thead th {\n",
              "        text-align: right;\n",
              "    }\n",
              "</style>\n",
              "<table border=\"1\" class=\"dataframe\">\n",
              "  <thead>\n",
              "    <tr style=\"text-align: right;\">\n",
              "      <th></th>\n",
              "      <th>Low</th>\n",
              "      <th>High</th>\n",
              "      <th>Open</th>\n",
              "      <th>Close</th>\n",
              "      <th>Mean</th>\n",
              "    </tr>\n",
              "  </thead>\n",
              "  <tbody>\n",
              "    <tr>\n",
              "      <th>4963</th>\n",
              "      <td>0.226900</td>\n",
              "      <td>0.232175</td>\n",
              "      <td>0.233079</td>\n",
              "      <td>0.222460</td>\n",
              "      <td>0.229584</td>\n",
              "    </tr>\n",
              "    <tr>\n",
              "      <th>4964</th>\n",
              "      <td>0.221976</td>\n",
              "      <td>0.220772</td>\n",
              "      <td>0.216627</td>\n",
              "      <td>0.217437</td>\n",
              "      <td>0.221363</td>\n",
              "    </tr>\n",
              "    <tr>\n",
              "      <th>4965</th>\n",
              "      <td>0.216560</td>\n",
              "      <td>0.214564</td>\n",
              "      <td>0.215752</td>\n",
              "      <td>0.213741</td>\n",
              "      <td>0.215544</td>\n",
              "    </tr>\n",
              "    <tr>\n",
              "      <th>4966</th>\n",
              "      <td>0.223913</td>\n",
              "      <td>0.223433</td>\n",
              "      <td>0.216770</td>\n",
              "      <td>0.226108</td>\n",
              "      <td>0.223669</td>\n",
              "    </tr>\n",
              "    <tr>\n",
              "      <th>4967</th>\n",
              "      <td>0.229739</td>\n",
              "      <td>0.227741</td>\n",
              "      <td>0.229594</td>\n",
              "      <td>0.225836</td>\n",
              "      <td>0.228722</td>\n",
              "    </tr>\n",
              "    <tr>\n",
              "      <th>...</th>\n",
              "      <td>...</td>\n",
              "      <td>...</td>\n",
              "      <td>...</td>\n",
              "      <td>...</td>\n",
              "      <td>...</td>\n",
              "    </tr>\n",
              "    <tr>\n",
              "      <th>7085</th>\n",
              "      <td>0.415395</td>\n",
              "      <td>0.408872</td>\n",
              "      <td>0.406428</td>\n",
              "      <td>0.409673</td>\n",
              "      <td>0.412075</td>\n",
              "    </tr>\n",
              "    <tr>\n",
              "      <th>7086</th>\n",
              "      <td>0.413343</td>\n",
              "      <td>0.443445</td>\n",
              "      <td>0.401718</td>\n",
              "      <td>0.424345</td>\n",
              "      <td>0.428662</td>\n",
              "    </tr>\n",
              "    <tr>\n",
              "      <th>7087</th>\n",
              "      <td>0.437945</td>\n",
              "      <td>0.436967</td>\n",
              "      <td>0.428799</td>\n",
              "      <td>0.428489</td>\n",
              "      <td>0.437448</td>\n",
              "    </tr>\n",
              "    <tr>\n",
              "      <th>7088</th>\n",
              "      <td>0.427770</td>\n",
              "      <td>0.430696</td>\n",
              "      <td>0.432426</td>\n",
              "      <td>0.427785</td>\n",
              "      <td>0.429259</td>\n",
              "    </tr>\n",
              "    <tr>\n",
              "      <th>7089</th>\n",
              "      <td>0.437141</td>\n",
              "      <td>0.430157</td>\n",
              "      <td>0.430708</td>\n",
              "      <td>0.427177</td>\n",
              "      <td>0.433587</td>\n",
              "    </tr>\n",
              "  </tbody>\n",
              "</table>\n",
              "<p>2127 rows × 5 columns</p>\n",
              "</div>"
            ],
            "text/plain": [
              "           Low      High      Open     Close      Mean\n",
              "4963  0.226900  0.232175  0.233079  0.222460  0.229584\n",
              "4964  0.221976  0.220772  0.216627  0.217437  0.221363\n",
              "4965  0.216560  0.214564  0.215752  0.213741  0.215544\n",
              "4966  0.223913  0.223433  0.216770  0.226108  0.223669\n",
              "4967  0.229739  0.227741  0.229594  0.225836  0.228722\n",
              "...        ...       ...       ...       ...       ...\n",
              "7085  0.415395  0.408872  0.406428  0.409673  0.412075\n",
              "7086  0.413343  0.443445  0.401718  0.424345  0.428662\n",
              "7087  0.437945  0.436967  0.428799  0.428489  0.437448\n",
              "7088  0.427770  0.430696  0.432426  0.427785  0.429259\n",
              "7089  0.437141  0.430157  0.430708  0.427177  0.433587\n",
              "\n",
              "[2127 rows x 5 columns]"
            ]
          },
          "metadata": {
            "tags": []
          },
          "execution_count": 233
        }
      ]
    },
    {
      "cell_type": "code",
      "metadata": {
        "id": "psWmlbrssQWB",
        "colab_type": "code",
        "outputId": "6fa76f1d-e334-4b0a-8d42-99c434dd50c9",
        "colab": {
          "base_uri": "https://localhost:8080/",
          "height": 218
        }
      },
      "source": [
        "test_X.info()"
      ],
      "execution_count": 0,
      "outputs": [
        {
          "output_type": "stream",
          "text": [
            "<class 'pandas.core.frame.DataFrame'>\n",
            "Int64Index: 2127 entries, 4963 to 7089\n",
            "Data columns (total 5 columns):\n",
            " #   Column  Non-Null Count  Dtype  \n",
            "---  ------  --------------  -----  \n",
            " 0   Low     2127 non-null   float64\n",
            " 1   High    2127 non-null   float64\n",
            " 2   Open    2127 non-null   float64\n",
            " 3   Close   2127 non-null   float64\n",
            " 4   Mean    2127 non-null   float64\n",
            "dtypes: float64(5)\n",
            "memory usage: 99.7 KB\n"
          ],
          "name": "stdout"
        }
      ]
    },
    {
      "cell_type": "code",
      "metadata": {
        "id": "4Vt6moPTske9",
        "colab_type": "code",
        "colab": {}
      },
      "source": [
        "predictions= results.predict(start = train_size, end=train_size+test_size+(steps)-1,exog=test_X)"
      ],
      "execution_count": 0,
      "outputs": []
    },
    {
      "cell_type": "code",
      "metadata": {
        "id": "K1JvwOGOsuMG",
        "colab_type": "code",
        "colab": {}
      },
      "source": [
        "forecast_1= results.forecast(steps=test_size-1, exog=test_X)"
      ],
      "execution_count": 0,
      "outputs": []
    },
    {
      "cell_type": "code",
      "metadata": {
        "id": "jlLf2t1gsxUh",
        "colab_type": "code",
        "colab": {}
      },
      "source": [
        "act= pd.DataFrame(scaler_output.iloc[train_size:, 0])"
      ],
      "execution_count": 0,
      "outputs": []
    },
    {
      "cell_type": "code",
      "metadata": {
        "id": "wvyOmD8Ds0iq",
        "colab_type": "code",
        "colab": {}
      },
      "source": [
        "predictions=pd.DataFrame(predictions)\n",
        "predictions.reset_index(drop=True, inplace=True)\n",
        "predictions.index=test_X.index\n",
        "predictions['Actual'] = act['Stock Price next day']\n",
        "predictions.rename(columns={0:'Pred'}, inplace=True)"
      ],
      "execution_count": 0,
      "outputs": []
    },
    {
      "cell_type": "code",
      "metadata": {
        "id": "5JxbtPpds4y0",
        "colab_type": "code",
        "outputId": "ebccf44a-3264-44e9-fe6a-9b103e82347e",
        "colab": {
          "base_uri": "https://localhost:8080/",
          "height": 500
        }
      },
      "source": [
        "predictions['Actual'].plot(figsize=(20,8), legend=True, color='blue')\n",
        "predictions['Pred'].plot(legend=True, color='red', figsize=(20,8))"
      ],
      "execution_count": 0,
      "outputs": [
        {
          "output_type": "execute_result",
          "data": {
            "text/plain": [
              "<matplotlib.axes._subplots.AxesSubplot at 0x7f8b33d4ae10>"
            ]
          },
          "metadata": {
            "tags": []
          },
          "execution_count": 239
        },
        {
          "output_type": "display_data",
          "data": {
            "image/png": "[encoded data removed]",
            "text/plain": [
              "<Figure size 1440x576 with 1 Axes>"
            ]
          },
          "metadata": {
            "tags": [],
            "needs_background": "light"
          }
        }
      ]
    },
    {
      "cell_type": "code",
      "metadata": {
        "id": "lNbJ7HOks_gF",
        "colab_type": "code",
        "outputId": "88939b8f-7709-43b3-ed73-d480b7391db9",
        "colab": {
          "base_uri": "https://localhost:8080/",
          "height": 34
        }
      },
      "source": [
        "from statsmodels.tools.eval_measures import rmse\n",
        "error=rmse(predictions['Pred'], predictions['Actual'])\n",
        "error"
      ],
      "execution_count": 0,
      "outputs": [
        {
          "output_type": "execute_result",
          "data": {
            "text/plain": [
              "0.07376564022424532"
            ]
          },
          "metadata": {
            "tags": []
          },
          "execution_count": 240
        }
      ]
    },
    {
      "cell_type": "code",
      "metadata": {
        "id": "WTW1ka5q3wDQ",
        "colab_type": "code",
        "colab": {}
      },
      "source": [
        ""
      ],
      "execution_count": 0,
      "outputs": []
    }
  ]
}