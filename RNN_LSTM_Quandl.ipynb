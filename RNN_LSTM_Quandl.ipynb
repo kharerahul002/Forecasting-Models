{
  "nbformat": 4,
  "nbformat_minor": 0,
  "metadata": {
    "colab": {
      "name": "RNN_LSTM_Quandl.ipynb",
      "provenance": [],
      "collapsed_sections": [],
      "include_colab_link": true
    },
    "kernelspec": {
      "name": "python3",
      "display_name": "Python 3"
    }
  },
  "cells": [
    {
      "cell_type": "markdown",
      "metadata": {
        "id": "view-in-github",
        "colab_type": "text"
      },
      "source": [
        "<a href=\"https://colab.research.google.com/github/kharerahul002/Forecasting-Models/blob/master/RNN_LSTM_Quandl.ipynb\" target=\"_parent\"><img src=\"https://colab.research.google.com/assets/colab-badge.svg\" alt=\"Open In Colab\"/></a>"
      ]
    },
    {
      "cell_type": "code",
      "metadata": {
        "id": "gB_fKNWMHQuj",
        "colab_type": "code",
        "outputId": "f54c7b2b-bbf4-4089-bf58-f3253faaf4f8",
        "colab": {
          "base_uri": "https://localhost:8080/",
          "height": 34
        }
      },
      "source": [
        "import math\n",
        "import pandas as pd\n",
        "import numpy as np\n",
        "from sklearn.preprocessing import MinMaxScaler\n",
        "from keras.models import Sequential\n",
        "from keras.layers import Dense, LSTM\n",
        "import quandl\n",
        "import matplotlib.pyplot as plt\n",
        "plt.style.use('fivethirtyeight')"
      ],
      "execution_count": 0,
      "outputs": [
        {
          "output_type": "stream",
          "text": [
            "Using TensorFlow backend.\n"
          ],
          "name": "stderr"
        }
      ]
    },
    {
      "cell_type": "code",
      "metadata": {
        "id": "iJo7q-JnIev5",
        "colab_type": "code",
        "outputId": "11ccf68b-d4b2-4753-9180-53d149ee8118",
        "colab": {
          "base_uri": "https://localhost:8080/",
          "height": 431
        }
      },
      "source": [
        "quandl.ApiConfig.api_key = 'knewsUunFYUMpN7y7xKn'\n",
        "df = quandl.get('BSE/BOM500325') #Reliance\n",
        "df\n"
      ],
      "execution_count": 0,
      "outputs": [
        {
          "output_type": "execute_result",
          "data": {
            "text/html": [
              "<div>\n",
              "<style scoped>\n",
              "    .dataframe tbody tr th:only-of-type {\n",
              "        vertical-align: middle;\n",
              "    }\n",
              "\n",
              "    .dataframe tbody tr th {\n",
              "        vertical-align: top;\n",
              "    }\n",
              "\n",
              "    .dataframe thead th {\n",
              "        text-align: right;\n",
              "    }\n",
              "</style>\n",
              "<table border=\"1\" class=\"dataframe\">\n",
              "  <thead>\n",
              "    <tr style=\"text-align: right;\">\n",
              "      <th></th>\n",
              "      <th>Open</th>\n",
              "      <th>High</th>\n",
              "      <th>Low</th>\n",
              "      <th>Close</th>\n",
              "      <th>WAP</th>\n",
              "      <th>No. of Shares</th>\n",
              "      <th>No. of Trades</th>\n",
              "      <th>Total Turnover</th>\n",
              "      <th>Deliverable Quantity</th>\n",
              "      <th>% Deli. Qty to Traded Qty</th>\n",
              "      <th>Spread H-L</th>\n",
              "      <th>Spread C-O</th>\n",
              "    </tr>\n",
              "    <tr>\n",
              "      <th>Date</th>\n",
              "      <th></th>\n",
              "      <th></th>\n",
              "      <th></th>\n",
              "      <th></th>\n",
              "      <th></th>\n",
              "      <th></th>\n",
              "      <th></th>\n",
              "      <th></th>\n",
              "      <th></th>\n",
              "      <th></th>\n",
              "      <th></th>\n",
              "      <th></th>\n",
              "    </tr>\n",
              "  </thead>\n",
              "  <tbody>\n",
              "    <tr>\n",
              "      <th>1991-01-02</th>\n",
              "      <td>115.0</td>\n",
              "      <td>115.00</td>\n",
              "      <td>105.00</td>\n",
              "      <td>107.50</td>\n",
              "      <td>0.00</td>\n",
              "      <td>0.0</td>\n",
              "      <td>0.0</td>\n",
              "      <td>0.000000e+00</td>\n",
              "      <td>NaN</td>\n",
              "      <td>NaN</td>\n",
              "      <td>10.00</td>\n",
              "      <td>-7.50</td>\n",
              "    </tr>\n",
              "    <tr>\n",
              "      <th>1991-01-03</th>\n",
              "      <td>107.5</td>\n",
              "      <td>107.50</td>\n",
              "      <td>95.00</td>\n",
              "      <td>97.50</td>\n",
              "      <td>0.00</td>\n",
              "      <td>0.0</td>\n",
              "      <td>0.0</td>\n",
              "      <td>0.000000e+00</td>\n",
              "      <td>NaN</td>\n",
              "      <td>NaN</td>\n",
              "      <td>12.50</td>\n",
              "      <td>-10.00</td>\n",
              "    </tr>\n",
              "    <tr>\n",
              "      <th>1991-01-07</th>\n",
              "      <td>105.0</td>\n",
              "      <td>107.50</td>\n",
              "      <td>97.50</td>\n",
              "      <td>105.00</td>\n",
              "      <td>0.00</td>\n",
              "      <td>0.0</td>\n",
              "      <td>0.0</td>\n",
              "      <td>0.000000e+00</td>\n",
              "      <td>NaN</td>\n",
              "      <td>NaN</td>\n",
              "      <td>10.00</td>\n",
              "      <td>0.00</td>\n",
              "    </tr>\n",
              "    <tr>\n",
              "      <th>1991-01-09</th>\n",
              "      <td>105.0</td>\n",
              "      <td>105.00</td>\n",
              "      <td>101.25</td>\n",
              "      <td>102.50</td>\n",
              "      <td>0.00</td>\n",
              "      <td>0.0</td>\n",
              "      <td>0.0</td>\n",
              "      <td>0.000000e+00</td>\n",
              "      <td>NaN</td>\n",
              "      <td>NaN</td>\n",
              "      <td>3.75</td>\n",
              "      <td>-2.50</td>\n",
              "    </tr>\n",
              "    <tr>\n",
              "      <th>1991-01-11</th>\n",
              "      <td>102.5</td>\n",
              "      <td>110.00</td>\n",
              "      <td>100.00</td>\n",
              "      <td>108.75</td>\n",
              "      <td>0.00</td>\n",
              "      <td>0.0</td>\n",
              "      <td>0.0</td>\n",
              "      <td>0.000000e+00</td>\n",
              "      <td>NaN</td>\n",
              "      <td>NaN</td>\n",
              "      <td>10.00</td>\n",
              "      <td>6.25</td>\n",
              "    </tr>\n",
              "    <tr>\n",
              "      <th>...</th>\n",
              "      <td>...</td>\n",
              "      <td>...</td>\n",
              "      <td>...</td>\n",
              "      <td>...</td>\n",
              "      <td>...</td>\n",
              "      <td>...</td>\n",
              "      <td>...</td>\n",
              "      <td>...</td>\n",
              "      <td>...</td>\n",
              "      <td>...</td>\n",
              "      <td>...</td>\n",
              "      <td>...</td>\n",
              "    </tr>\n",
              "    <tr>\n",
              "      <th>2020-04-24</th>\n",
              "      <td>1354.9</td>\n",
              "      <td>1495.00</td>\n",
              "      <td>1348.00</td>\n",
              "      <td>1417.35</td>\n",
              "      <td>1426.94</td>\n",
              "      <td>2452068.0</td>\n",
              "      <td>84839.0</td>\n",
              "      <td>3.498957e+09</td>\n",
              "      <td>298577.0</td>\n",
              "      <td>12.18</td>\n",
              "      <td>147.00</td>\n",
              "      <td>62.45</td>\n",
              "    </tr>\n",
              "    <tr>\n",
              "      <th>2020-04-27</th>\n",
              "      <td>1440.0</td>\n",
              "      <td>1474.55</td>\n",
              "      <td>1422.95</td>\n",
              "      <td>1430.30</td>\n",
              "      <td>1449.14</td>\n",
              "      <td>1152767.0</td>\n",
              "      <td>42860.0</td>\n",
              "      <td>1.670522e+09</td>\n",
              "      <td>204866.0</td>\n",
              "      <td>17.77</td>\n",
              "      <td>51.60</td>\n",
              "      <td>-9.70</td>\n",
              "    </tr>\n",
              "    <tr>\n",
              "      <th>2020-04-28</th>\n",
              "      <td>1451.4</td>\n",
              "      <td>1454.75</td>\n",
              "      <td>1391.95</td>\n",
              "      <td>1428.10</td>\n",
              "      <td>1421.15</td>\n",
              "      <td>1301548.0</td>\n",
              "      <td>49487.0</td>\n",
              "      <td>1.849695e+09</td>\n",
              "      <td>159436.0</td>\n",
              "      <td>12.25</td>\n",
              "      <td>62.80</td>\n",
              "      <td>-23.30</td>\n",
              "    </tr>\n",
              "    <tr>\n",
              "      <th>2020-04-29</th>\n",
              "      <td>1446.0</td>\n",
              "      <td>1453.05</td>\n",
              "      <td>1420.50</td>\n",
              "      <td>1426.20</td>\n",
              "      <td>1436.20</td>\n",
              "      <td>642967.0</td>\n",
              "      <td>25581.0</td>\n",
              "      <td>9.234291e+08</td>\n",
              "      <td>119218.0</td>\n",
              "      <td>18.54</td>\n",
              "      <td>32.55</td>\n",
              "      <td>-19.80</td>\n",
              "    </tr>\n",
              "    <tr>\n",
              "      <th>2020-04-30</th>\n",
              "      <td>1454.0</td>\n",
              "      <td>1494.50</td>\n",
              "      <td>1440.00</td>\n",
              "      <td>1467.05</td>\n",
              "      <td>1469.70</td>\n",
              "      <td>1277127.0</td>\n",
              "      <td>47637.0</td>\n",
              "      <td>1.876995e+09</td>\n",
              "      <td>199937.0</td>\n",
              "      <td>15.66</td>\n",
              "      <td>54.50</td>\n",
              "      <td>13.05</td>\n",
              "    </tr>\n",
              "  </tbody>\n",
              "</table>\n",
              "<p>7091 rows × 12 columns</p>\n",
              "</div>"
            ],
            "text/plain": [
              "              Open     High  ...  Spread H-L  Spread C-O\n",
              "Date                         ...                        \n",
              "1991-01-02   115.0   115.00  ...       10.00       -7.50\n",
              "1991-01-03   107.5   107.50  ...       12.50      -10.00\n",
              "1991-01-07   105.0   107.50  ...       10.00        0.00\n",
              "1991-01-09   105.0   105.00  ...        3.75       -2.50\n",
              "1991-01-11   102.5   110.00  ...       10.00        6.25\n",
              "...            ...      ...  ...         ...         ...\n",
              "2020-04-24  1354.9  1495.00  ...      147.00       62.45\n",
              "2020-04-27  1440.0  1474.55  ...       51.60       -9.70\n",
              "2020-04-28  1451.4  1454.75  ...       62.80      -23.30\n",
              "2020-04-29  1446.0  1453.05  ...       32.55      -19.80\n",
              "2020-04-30  1454.0  1494.50  ...       54.50       13.05\n",
              "\n",
              "[7091 rows x 12 columns]"
            ]
          },
          "metadata": {
            "tags": []
          },
          "execution_count": 3
        }
      ]
    },
    {
      "cell_type": "code",
      "metadata": {
        "id": "2qgjItMqItu-",
        "colab_type": "code",
        "outputId": "30d8c4c2-e8ac-41c4-c06d-31cc49264439",
        "colab": {
          "base_uri": "https://localhost:8080/",
          "height": 34
        }
      },
      "source": [
        "df.shape"
      ],
      "execution_count": 0,
      "outputs": [
        {
          "output_type": "execute_result",
          "data": {
            "text/plain": [
              "(7091, 12)"
            ]
          },
          "metadata": {
            "tags": []
          },
          "execution_count": 4
        }
      ]
    },
    {
      "cell_type": "code",
      "metadata": {
        "id": "Ci6I6YVFJpHx",
        "colab_type": "code",
        "outputId": "c2c5f08a-376a-47f3-b782-aab36f148133",
        "colab": {
          "base_uri": "https://localhost:8080/",
          "height": 558
        }
      },
      "source": [
        "#visualize the open price\n",
        "plt.figure(figsize=(16,8))\n",
        "plt.title('Open Price History')\n",
        "plt.plot(df['Open'])\n",
        "plt.xlabel('Date', fontsize = 18)\n",
        "plt.ylabel('Open Price In Rupees', fontsize = 18)\n",
        "plt.show()"
      ],
      "execution_count": 0,
      "outputs": [
        {
          "output_type": "display_data",
          "data": {
            "image/png": "[encoded data removed]",
            "text/plain": [
              "<Figure size 1152x576 with 1 Axes>"
            ]
          },
          "metadata": {
            "tags": []
          }
        }
      ]
    },
    {
      "cell_type": "code",
      "metadata": {
        "id": "sBn7y6NHKVbM",
        "colab_type": "code",
        "outputId": "0aa3d6fc-baaf-484e-caff-773e6299da5d",
        "colab": {
          "base_uri": "https://localhost:8080/",
          "height": 34
        }
      },
      "source": [
        "#create new dataframe only with open column\n",
        "data = df.filter(['Open'])\n",
        "#convert the DataFrame into Numpy Array\n",
        "dataset = data.values\n",
        "#get the num of rows to train the model\n",
        "training_data_len = math.ceil(len(dataset)* .8) #round up the data using math.ceil\n",
        "training_data_len"
      ],
      "execution_count": 0,
      "outputs": [
        {
          "output_type": "execute_result",
          "data": {
            "text/plain": [
              "5673"
            ]
          },
          "metadata": {
            "tags": []
          },
          "execution_count": 6
        }
      ]
    },
    {
      "cell_type": "code",
      "metadata": {
        "id": "EUTfVMqSMfwk",
        "colab_type": "code",
        "outputId": "294a0adc-3549-4fb5-f91e-3869335ab33c",
        "colab": {
          "base_uri": "https://localhost:8080/",
          "height": 134
        }
      },
      "source": [
        " #scale the data\n",
        " scaler = MinMaxScaler(feature_range=(0,1))\n",
        " scaled_data = scaler.fit_transform(dataset)\n",
        "\n",
        " scaled_data"
      ],
      "execution_count": 0,
      "outputs": [
        {
          "output_type": "execute_result",
          "data": {
            "text/plain": [
              "array([[0.0071599 ],\n",
              "       [0.00477327],\n",
              "       [0.00397772],\n",
              "       ...,\n",
              "       [0.43242641],\n",
              "       [0.43070804],\n",
              "       [0.43325378]])"
            ]
          },
          "metadata": {
            "tags": []
          },
          "execution_count": 7
        }
      ]
    },
    {
      "cell_type": "code",
      "metadata": {
        "id": "1TBtULQkNWJL",
        "colab_type": "code",
        "outputId": "4243e970-6d0d-4d3d-91e2-15e68612a9c0",
        "colab": {
          "base_uri": "https://localhost:8080/",
          "height": 252
        }
      },
      "source": [
        "#create the training dataset\n",
        "#create the scaled training dataset\n",
        "\n",
        "train_data = scaled_data[0:training_data_len, :]\n",
        "\n",
        "#split the data into x-train and y-train data sets\n",
        "\n",
        "x_train = []\n",
        "y_train = []\n",
        "\n",
        "for i in range(60, len(train_data)):\n",
        "  x_train.append(train_data[i-60:i, 0])\n",
        "  y_train.append(train_data[i, 0])\n",
        "  if i<=60:\n",
        "    print(x_train)\n",
        "    print(y_train)\n",
        "    print()"
      ],
      "execution_count": 0,
      "outputs": [
        {
          "output_type": "stream",
          "text": [
            "[array([0.0071599 , 0.00477327, 0.00397772, 0.00397772, 0.00318218,\n",
            "       0.00477327, 0.00397772, 0.00198886, 0.        , 0.00318218,\n",
            "       0.00159109, 0.00636436, 0.0071599 , 0.00954654, 0.00795545,\n",
            "       0.0071599 , 0.00636436, 0.0043755 , 0.0043755 , 0.00636436,\n",
            "       0.01113763, 0.01193317, 0.01431981, 0.0159109 , 0.01670644,\n",
            "       0.01829753, 0.02187749, 0.01909308, 0.01949085, 0.01352426,\n",
            "       0.01113763, 0.01312649, 0.00994431, 0.01034208, 0.01256961,\n",
            "       0.0106603 , 0.01002387, 0.00747812, 0.01129674, 0.00875099,\n",
            "       0.00795545, 0.00906921, 0.00938743, 0.01129674, 0.01129674,\n",
            "       0.01002387, 0.01145585, 0.0106603 , 0.01384248, 0.01193317,\n",
            "       0.0141607 , 0.01638823, 0.01718377, 0.01479714, 0.01607001,\n",
            "       0.01575179, 0.01431981, 0.01225139, 0.01320605, 0.01400159])]\n",
            "[0.011614956245027844]\n",
            "\n"
          ],
          "name": "stdout"
        }
      ]
    },
    {
      "cell_type": "code",
      "metadata": {
        "id": "V4RA_ysRTJmm",
        "colab_type": "code",
        "colab": {}
      },
      "source": [
        " #convert the x-train and y-train into numpy array\n",
        " x_train, y_train = np.array(x_train), np.array(y_train)\n",
        " "
      ],
      "execution_count": 0,
      "outputs": []
    },
    {
      "cell_type": "code",
      "metadata": {
        "id": "1LOhShqbUpjP",
        "colab_type": "code",
        "outputId": "7021388f-82c8-4341-e761-cf1b9001cb91",
        "colab": {
          "base_uri": "https://localhost:8080/",
          "height": 34
        }
      },
      "source": [
        "#reshape the data\n",
        "x_train = np.reshape(x_train ,(x_train.shape[0], x_train.shape[1], 1)) \n",
        "x_train.shape"
      ],
      "execution_count": 0,
      "outputs": [
        {
          "output_type": "execute_result",
          "data": {
            "text/plain": [
              "(5613, 60, 1)"
            ]
          },
          "metadata": {
            "tags": []
          },
          "execution_count": 10
        }
      ]
    },
    {
      "cell_type": "code",
      "metadata": {
        "id": "nw14L2UaU5pZ",
        "colab_type": "code",
        "colab": {}
      },
      "source": [
        "#Build the LSTM Model\n",
        "model = Sequential()\n",
        "model.add(LSTM(50, return_sequences= True, input_shape=(x_train.shape[1],1)))\n",
        "model.add(LSTM(50, return_sequences= False))\n",
        "model.add(Dense(25))\n",
        "model.add(Dense(1))"
      ],
      "execution_count": 0,
      "outputs": []
    },
    {
      "cell_type": "code",
      "metadata": {
        "id": "lm5aB-OHXDER",
        "colab_type": "code",
        "colab": {}
      },
      "source": [
        "#compile the model\n",
        "model.compile(optimizer='adam', loss='mean_squared_error', metrics=['accuracy'])\n"
      ],
      "execution_count": 0,
      "outputs": []
    },
    {
      "cell_type": "code",
      "metadata": {
        "id": "_SxYJt0NXUw8",
        "colab_type": "code",
        "outputId": "1c2503c5-f6e0-4cf8-a190-7e9433e1b8ba",
        "colab": {
          "base_uri": "https://localhost:8080/",
          "height": 67
        }
      },
      "source": [
        "#train the model\n",
        "model.fit(x_train, y_train, batch_size=1, epochs=1)"
      ],
      "execution_count": 0,
      "outputs": [
        {
          "output_type": "stream",
          "text": [
            "Epoch 1/1\n",
            "5613/5613 [==============================] - 202s 36ms/step - loss: 8.6932e-04 - accuracy: 1.7816e-04\n"
          ],
          "name": "stdout"
        },
        {
          "output_type": "execute_result",
          "data": {
            "text/plain": [
              "<keras.callbacks.callbacks.History at 0x7fd82948ad30>"
            ]
          },
          "metadata": {
            "tags": []
          },
          "execution_count": 13
        }
      ]
    },
    {
      "cell_type": "code",
      "metadata": {
        "id": "V-tY0u8HXwyi",
        "colab_type": "code",
        "colab": {}
      },
      "source": [
        " #craete testing dataset\n",
        " #create a new array containing scaled values from index 5613 to 7091\n",
        " \n",
        " test_data = scaled_data[training_data_len - 60:, :]\n",
        "\n",
        " #create the datasets x_test, y_test\n",
        " x_test = []\n",
        " y_test = dataset[training_data_len:, :]\n",
        "\n",
        " for i in range(60, len(test_data)):\n",
        "   x_test.append(test_data[i-60:i, 0])\n",
        "   \n",
        "\n"
      ],
      "execution_count": 0,
      "outputs": []
    },
    {
      "cell_type": "code",
      "metadata": {
        "id": "ZYIeKlmPbNnx",
        "colab_type": "code",
        "colab": {}
      },
      "source": [
        "#convert data into numpy array\n",
        "x_test = np.array(x_test)\n"
      ],
      "execution_count": 0,
      "outputs": []
    },
    {
      "cell_type": "code",
      "metadata": {
        "id": "QDUpRUs0baic",
        "colab_type": "code",
        "colab": {}
      },
      "source": [
        "#reshape the data\n",
        "x_test = np.reshape(x_test, (x_test.shape[0], x_test.shape[1], 1))"
      ],
      "execution_count": 0,
      "outputs": []
    },
    {
      "cell_type": "code",
      "metadata": {
        "id": "iK4j-qb0cSJD",
        "colab_type": "code",
        "colab": {}
      },
      "source": [
        " #get the model predicted price values\n",
        " predictions = model.predict(x_test)\n",
        " predictions = scaler.inverse_transform(predictions)\n"
      ],
      "execution_count": 0,
      "outputs": []
    },
    {
      "cell_type": "code",
      "metadata": {
        "id": "-FEDb0TWdd5F",
        "colab_type": "code",
        "outputId": "c016f2af-ada3-405d-de13-13860d9dc32a",
        "colab": {
          "base_uri": "https://localhost:8080/",
          "height": 34
        }
      },
      "source": [
        "#evaluate by rmse\n",
        "rmse = np.sqrt(np.mean(predictions - y_test)**2)\n",
        "rmse"
      ],
      "execution_count": 0,
      "outputs": [
        {
          "output_type": "execute_result",
          "data": {
            "text/plain": [
              "5.673078769958238"
            ]
          },
          "metadata": {
            "tags": []
          },
          "execution_count": 18
        }
      ]
    },
    {
      "cell_type": "code",
      "metadata": {
        "id": "p6jWLj31eGyY",
        "colab_type": "code",
        "outputId": "68a52622-50bb-4141-a38c-944d1c6b3a08",
        "colab": {
          "base_uri": "https://localhost:8080/",
          "height": 659
        }
      },
      "source": [
        "#plot the data\n",
        "train = data[:training_data_len]\n",
        "valid = data[training_data_len:]\n",
        "valid['Predictions'] = predictions\n",
        "\n",
        "#visualize data\n",
        "plt.figure(figsize=(16,8))\n",
        "plt.title('Model')\n",
        "plt.xlabel('Date', fontsize= 18)\n",
        "plt.ylabel('Stock Price in Rupees', fontsize = 18)\n",
        "plt.plot(train['Open'])\n",
        "plt.plot(valid[['Open', 'Predictions']])\n",
        "plt.legend(['Train','Validation','Predictions'], loc='lower right')\n",
        "plt.show()"
      ],
      "execution_count": 0,
      "outputs": [
        {
          "output_type": "stream",
          "text": [
            "/usr/local/lib/python3.6/dist-packages/ipykernel_launcher.py:3: SettingWithCopyWarning: \n",
            "A value is trying to be set on a copy of a slice from a DataFrame.\n",
            "Try using .loc[row_indexer,col_indexer] = value instead\n",
            "\n",
            "See the caveats in the documentation: https://pandas.pydata.org/pandas-docs/stable/user_guide/indexing.html#returning-a-view-versus-a-copy\n",
            "  This is separate from the ipykernel package so we can avoid doing imports until\n"
          ],
          "name": "stderr"
        },
        {
          "output_type": "display_data",
          "data": {
            "image/png": "[encoded data removed]",
            "text/plain": [
              "<Figure size 1152x576 with 1 Axes>"
            ]
          },
          "metadata": {
            "tags": []
          }
        }
      ]
    },
    {
      "cell_type": "code",
      "metadata": {
        "id": "YNRtkPnKhFzJ",
        "colab_type": "code",
        "outputId": "cf8e5922-a3a6-4c18-8a90-1a21b3795884",
        "colab": {
          "base_uri": "https://localhost:8080/",
          "height": 431
        }
      },
      "source": [
        " #show the valid and acctual price\n",
        " valid"
      ],
      "execution_count": 0,
      "outputs": [
        {
          "output_type": "execute_result",
          "data": {
            "text/html": [
              "<div>\n",
              "<style scoped>\n",
              "    .dataframe tbody tr th:only-of-type {\n",
              "        vertical-align: middle;\n",
              "    }\n",
              "\n",
              "    .dataframe tbody tr th {\n",
              "        vertical-align: top;\n",
              "    }\n",
              "\n",
              "    .dataframe thead th {\n",
              "        text-align: right;\n",
              "    }\n",
              "</style>\n",
              "<table border=\"1\" class=\"dataframe\">\n",
              "  <thead>\n",
              "    <tr style=\"text-align: right;\">\n",
              "      <th></th>\n",
              "      <th>Open</th>\n",
              "      <th>Predictions</th>\n",
              "    </tr>\n",
              "    <tr>\n",
              "      <th>Date</th>\n",
              "      <th></th>\n",
              "      <th></th>\n",
              "    </tr>\n",
              "  </thead>\n",
              "  <tbody>\n",
              "    <tr>\n",
              "      <th>2014-07-28</th>\n",
              "      <td>1023.8</td>\n",
              "      <td>1024.933350</td>\n",
              "    </tr>\n",
              "    <tr>\n",
              "      <th>2014-07-30</th>\n",
              "      <td>1006.2</td>\n",
              "      <td>1023.823242</td>\n",
              "    </tr>\n",
              "    <tr>\n",
              "      <th>2014-07-31</th>\n",
              "      <td>1009.0</td>\n",
              "      <td>1015.333679</td>\n",
              "    </tr>\n",
              "    <tr>\n",
              "      <th>2014-08-01</th>\n",
              "      <td>998.4</td>\n",
              "      <td>1009.528564</td>\n",
              "    </tr>\n",
              "    <tr>\n",
              "      <th>2014-08-04</th>\n",
              "      <td>981.6</td>\n",
              "      <td>1002.908020</td>\n",
              "    </tr>\n",
              "    <tr>\n",
              "      <th>...</th>\n",
              "      <td>...</td>\n",
              "      <td>...</td>\n",
              "    </tr>\n",
              "    <tr>\n",
              "      <th>2020-04-24</th>\n",
              "      <td>1354.9</td>\n",
              "      <td>1284.702026</td>\n",
              "    </tr>\n",
              "    <tr>\n",
              "      <th>2020-04-27</th>\n",
              "      <td>1440.0</td>\n",
              "      <td>1312.403442</td>\n",
              "    </tr>\n",
              "    <tr>\n",
              "      <th>2020-04-28</th>\n",
              "      <td>1451.4</td>\n",
              "      <td>1355.560059</td>\n",
              "    </tr>\n",
              "    <tr>\n",
              "      <th>2020-04-29</th>\n",
              "      <td>1446.0</td>\n",
              "      <td>1389.266846</td>\n",
              "    </tr>\n",
              "    <tr>\n",
              "      <th>2020-04-30</th>\n",
              "      <td>1454.0</td>\n",
              "      <td>1406.685059</td>\n",
              "    </tr>\n",
              "  </tbody>\n",
              "</table>\n",
              "<p>1418 rows × 2 columns</p>\n",
              "</div>"
            ],
            "text/plain": [
              "              Open  Predictions\n",
              "Date                           \n",
              "2014-07-28  1023.8  1024.933350\n",
              "2014-07-30  1006.2  1023.823242\n",
              "2014-07-31  1009.0  1015.333679\n",
              "2014-08-01   998.4  1009.528564\n",
              "2014-08-04   981.6  1002.908020\n",
              "...            ...          ...\n",
              "2020-04-24  1354.9  1284.702026\n",
              "2020-04-27  1440.0  1312.403442\n",
              "2020-04-28  1451.4  1355.560059\n",
              "2020-04-29  1446.0  1389.266846\n",
              "2020-04-30  1454.0  1406.685059\n",
              "\n",
              "[1418 rows x 2 columns]"
            ]
          },
          "metadata": {
            "tags": []
          },
          "execution_count": 20
        }
      ]
    },
    {
      "cell_type": "code",
      "metadata": {
        "id": "TxPxQpa-iZOp",
        "colab_type": "code",
        "colab": {}
      },
      "source": [
        " "
      ],
      "execution_count": 0,
      "outputs": []
    }
  ]
}